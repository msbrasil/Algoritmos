{
  "cells": [
    {
      "cell_type": "markdown",
      "metadata": {
        "id": "view-in-github",
        "colab_type": "text"
      },
      "source": [
        "<a href=\"https://colab.research.google.com/github/msbrasil/Algoritmos/blob/main/localize.ipynb\" target=\"_parent\"><img src=\"https://colab.research.google.com/assets/colab-badge.svg\" alt=\"Open In Colab\"/></a>"
      ]
    },
    {
      "cell_type": "code",
      "execution_count": null,
      "metadata": {
        "colab": {
          "base_uri": "https://localhost:8080/"
        },
        "id": "zRXdR_ioMAWx",
        "outputId": "54c7176d-1144-4b0e-ab86-bef7118ddccd"
      },
      "outputs": [
        {
          "name": "stdout",
          "output_type": "stream",
          "text": [
            "Drive already mounted at /content/drive; to attempt to forcibly remount, call drive.mount(\"/content/drive\", force_remount=True).\n"
          ]
        }
      ],
      "source": [
        "from google.colab import drive\n",
        "drive.mount('/content/drive')"
      ]
    },
    {
      "cell_type": "code",
      "execution_count": null,
      "metadata": {
        "colab": {
          "base_uri": "https://localhost:8080/"
        },
        "id": "PdGwamKjNNKf",
        "outputId": "3d7b0b1d-78a2-443e-fa03-c3ebad62d6b7"
      },
      "outputs": [
        {
          "name": "stdout",
          "output_type": "stream",
          "text": [
            "Looking in indexes: https://pypi.org/simple, https://us-python.pkg.dev/colab-wheels/public/simple/\n",
            "Requirement already satisfied: python-docx in /usr/local/lib/python3.8/dist-packages (0.8.11)\n",
            "Requirement already satisfied: lxml>=2.3.2 in /usr/local/lib/python3.8/dist-packages (from python-docx) (4.9.2)\n",
            "Looking in indexes: https://pypi.org/simple, https://us-python.pkg.dev/colab-wheels/public/simple/\n",
            "Requirement already satisfied: docx2pdf in /usr/local/lib/python3.8/dist-packages (0.1.8)\n",
            "Requirement already satisfied: tqdm>=4.41.0 in /usr/local/lib/python3.8/dist-packages (from docx2pdf) (4.64.1)\n",
            "Looking in indexes: https://pypi.org/simple, https://us-python.pkg.dev/colab-wheels/public/simple/\n",
            "\u001b[31mERROR: Could not find a version that satisfies the requirement exceptions (from versions: none)\u001b[0m\u001b[31m\n",
            "\u001b[0m\u001b[31mERROR: No matching distribution found for exceptions\u001b[0m\u001b[31m\n",
            "\u001b[0mLooking in indexes: https://pypi.org/simple, https://us-python.pkg.dev/colab-wheels/public/simple/\n",
            "Requirement already satisfied: PyPDF2 in /usr/local/lib/python3.8/dist-packages (3.0.1)\n",
            "Requirement already satisfied: typing_extensions>=3.10.0.0 in /usr/local/lib/python3.8/dist-packages (from PyPDF2) (4.5.0)\n",
            "Looking in indexes: https://pypi.org/simple, https://us-python.pkg.dev/colab-wheels/public/simple/\n",
            "Requirement already satisfied: pydrive in /usr/local/lib/python3.8/dist-packages (1.3.1)\n",
            "Requirement already satisfied: oauth2client>=4.0.0 in /usr/local/lib/python3.8/dist-packages (from pydrive) (4.1.3)\n",
            "Requirement already satisfied: PyYAML>=3.0 in /usr/local/lib/python3.8/dist-packages (from pydrive) (6.0)\n",
            "Requirement already satisfied: google-api-python-client>=1.2 in /usr/local/lib/python3.8/dist-packages (from pydrive) (2.70.0)\n",
            "Requirement already satisfied: google-auth-httplib2>=0.1.0 in /usr/local/lib/python3.8/dist-packages (from google-api-python-client>=1.2->pydrive) (0.1.0)\n",
            "Requirement already satisfied: uritemplate<5,>=3.0.1 in /usr/local/lib/python3.8/dist-packages (from google-api-python-client>=1.2->pydrive) (4.1.1)\n",
            "Requirement already satisfied: httplib2<1dev,>=0.15.0 in /usr/local/lib/python3.8/dist-packages (from google-api-python-client>=1.2->pydrive) (0.17.4)\n",
            "Requirement already satisfied: google-auth<3.0.0dev,>=1.19.0 in /usr/local/lib/python3.8/dist-packages (from google-api-python-client>=1.2->pydrive) (2.16.1)\n",
            "Requirement already satisfied: google-api-core!=2.0.*,!=2.1.*,!=2.2.*,!=2.3.0,<3.0.0dev,>=1.31.5 in /usr/local/lib/python3.8/dist-packages (from google-api-python-client>=1.2->pydrive) (2.11.0)\n",
            "Requirement already satisfied: rsa>=3.1.4 in /usr/local/lib/python3.8/dist-packages (from oauth2client>=4.0.0->pydrive) (4.9)\n",
            "Requirement already satisfied: pyasn1>=0.1.7 in /usr/local/lib/python3.8/dist-packages (from oauth2client>=4.0.0->pydrive) (0.4.8)\n",
            "Requirement already satisfied: pyasn1-modules>=0.0.5 in /usr/local/lib/python3.8/dist-packages (from oauth2client>=4.0.0->pydrive) (0.2.8)\n",
            "Requirement already satisfied: six>=1.6.1 in /usr/local/lib/python3.8/dist-packages (from oauth2client>=4.0.0->pydrive) (1.15.0)\n",
            "Requirement already satisfied: protobuf!=3.20.0,!=3.20.1,!=4.21.0,!=4.21.1,!=4.21.2,!=4.21.3,!=4.21.4,!=4.21.5,<5.0.0dev,>=3.19.5 in /usr/local/lib/python3.8/dist-packages (from google-api-core!=2.0.*,!=2.1.*,!=2.2.*,!=2.3.0,<3.0.0dev,>=1.31.5->google-api-python-client>=1.2->pydrive) (3.19.6)\n",
            "Requirement already satisfied: googleapis-common-protos<2.0dev,>=1.56.2 in /usr/local/lib/python3.8/dist-packages (from google-api-core!=2.0.*,!=2.1.*,!=2.2.*,!=2.3.0,<3.0.0dev,>=1.31.5->google-api-python-client>=1.2->pydrive) (1.58.0)\n",
            "Requirement already satisfied: requests<3.0.0dev,>=2.18.0 in /usr/local/lib/python3.8/dist-packages (from google-api-core!=2.0.*,!=2.1.*,!=2.2.*,!=2.3.0,<3.0.0dev,>=1.31.5->google-api-python-client>=1.2->pydrive) (2.25.1)\n",
            "Requirement already satisfied: cachetools<6.0,>=2.0.0 in /usr/local/lib/python3.8/dist-packages (from google-auth<3.0.0dev,>=1.19.0->google-api-python-client>=1.2->pydrive) (5.3.0)\n",
            "Requirement already satisfied: certifi>=2017.4.17 in /usr/local/lib/python3.8/dist-packages (from requests<3.0.0dev,>=2.18.0->google-api-core!=2.0.*,!=2.1.*,!=2.2.*,!=2.3.0,<3.0.0dev,>=1.31.5->google-api-python-client>=1.2->pydrive) (2022.12.7)\n",
            "Requirement already satisfied: chardet<5,>=3.0.2 in /usr/local/lib/python3.8/dist-packages (from requests<3.0.0dev,>=2.18.0->google-api-core!=2.0.*,!=2.1.*,!=2.2.*,!=2.3.0,<3.0.0dev,>=1.31.5->google-api-python-client>=1.2->pydrive) (4.0.0)\n",
            "Requirement already satisfied: urllib3<1.27,>=1.21.1 in /usr/local/lib/python3.8/dist-packages (from requests<3.0.0dev,>=2.18.0->google-api-core!=2.0.*,!=2.1.*,!=2.2.*,!=2.3.0,<3.0.0dev,>=1.31.5->google-api-python-client>=1.2->pydrive) (1.24.3)\n",
            "Requirement already satisfied: idna<3,>=2.5 in /usr/local/lib/python3.8/dist-packages (from requests<3.0.0dev,>=2.18.0->google-api-core!=2.0.*,!=2.1.*,!=2.2.*,!=2.3.0,<3.0.0dev,>=1.31.5->google-api-python-client>=1.2->pydrive) (2.10)\n"
          ]
        }
      ],
      "source": [
        "!pip install python-docx\n",
        "!pip install docx2pdf\n",
        "!pip install exceptions\n",
        "!pip install PyPDF2\n",
        "!pip install pydrive"
      ]
    },
    {
      "cell_type": "markdown",
      "metadata": {
        "id": "rL-BugV3K-79"
      },
      "source": [
        "### Automação de fichas de saneamento"
      ]
    },
    {
      "cell_type": "markdown",
      "metadata": {
        "id": "M4OvuYcoK-8A"
      },
      "source": [
        "pacotes\n"
      ]
    },
    {
      "cell_type": "code",
      "execution_count": null,
      "metadata": {
        "id": "aY4AuMrDK-8C"
      },
      "outputs": [],
      "source": [
        "import pandas as pd         # pacote para manipular base de dados\n",
        "from docx import Document   # pacote para manipulação de arquivos docx\n",
        "import re                   # pacote para utilização de expressões regulares (regex)\n",
        "import docx2pdf             # pacote para conversão de docx para pdf\n",
        "import locale               # dependência"
      ]
    },
    {
      "cell_type": "code",
      "execution_count": null,
      "metadata": {
        "id": "l0y0SP2sK-8E"
      },
      "outputs": [],
      "source": [
        "#locale.setlocale(locale.LC_ALL, 'de_DE.utf-8')"
      ]
    },
    {
      "cell_type": "code",
      "execution_count": null,
      "metadata": {
        "id": "ef6N4-WBK-8F"
      },
      "outputs": [],
      "source": [
        "snis = pd.read_excel('/content/drive/MyDrive/automacao-localize/snis.xlsx')"
      ]
    },
    {
      "cell_type": "markdown",
      "metadata": {
        "id": "I_DOdNV3K-8G"
      },
      "source": [
        "### Selecionar as variáveis de interesse"
      ]
    },
    {
      "cell_type": "code",
      "execution_count": null,
      "metadata": {
        "id": "5QdLqXHZK-8G"
      },
      "outputs": [],
      "source": [
        "sanepar = snis.filter([\n",
        "    'Município',\n",
        "    'Prestador',\n",
        "    'GE017 - Ano de vencimento da delegação de abastecimento de água',\n",
        "    'POP_TOT - População total do município do ano de referência (Fonte: IBGE):',\n",
        "    'AG001 - População total atendida com abastecimento de água',\n",
        "    'Tipo de serviço',\n",
        "    'AG026 - População urbana atendida com abastecimento de água',\n",
        "    'AG002 - Quantidade de ligações ativas de água',\n",
        "    'AG006 - Volume de água produzido',\n",
        "    'AG011 - Volume de água faturado',\n",
        "    'AG010 - Volume de água consumido',\n",
        "    'QD002 - Quantidades de paralisações no sistema de distribuição de água',\n",
        "    'IN076 - Incidência das análises de turbidez fora do padrão',\n",
        "    'QD027 - Quantidade de amostras para coliformes totais com resultados fora do padrão',\n",
        "    'IN079 - Índice de conformidade da quantidade de amostras - cloro residual',\n",
        "    'ES001 - População total atendida com esgotamento sanitário',\n",
        "    'ES002 - Quantidade de ligações ativas de esgotos',\n",
        "    'ES005 - Volume de esgotos coletado',\n",
        "    'ES007 - Volume de esgotos faturado',\n",
        "    'ES006 - Volume de esgotos tratado',\n",
        "    'ES004 - Extensão da rede de esgotos',\n",
        "])"
      ]
    },
    {
      "cell_type": "code",
      "execution_count": null,
      "metadata": {
        "id": "_eot4OxeK-8H"
      },
      "outputs": [],
      "source": [
        "sanepar.fillna(0, inplace=True)\n"
      ]
    },
    {
      "cell_type": "code",
      "execution_count": null,
      "metadata": {
        "id": "HBxyIWICO4a7"
      },
      "outputs": [],
      "source": [
        "sanepar['Tipo de serviço'] = sanepar['Tipo de serviço'].str.strip()"
      ]
    },
    {
      "cell_type": "code",
      "execution_count": null,
      "metadata": {
        "colab": {
          "base_uri": "https://localhost:8080/"
        },
        "id": "_7CPTVwZK-8I",
        "outputId": "28ea10c5-6d47-43ce-84ff-4bf993682cea"
      },
      "outputs": [
        {
          "name": "stderr",
          "output_type": "stream",
          "text": [
            "<ipython-input-27-bb46a2f52880>:1: DeprecationWarning: This method will be removed in a future version of Python. Use 'locale.format_string()' instead.\n",
            "  sanepar['POP_TOT - População total do município do ano de referência (Fonte: IBGE):'] = sanepar[ 'POP_TOT - População total do município do ano de referência (Fonte: IBGE):'].apply(lambda x: locale.format('%d', x, 1))\n",
            "<ipython-input-27-bb46a2f52880>:2: DeprecationWarning: This method will be removed in a future version of Python. Use 'locale.format_string()' instead.\n",
            "  sanepar['AG001 - População total atendida com abastecimento de água'] = sanepar['AG001 - População total atendida com abastecimento de água'].apply(lambda x: locale.format('%d', x, 1))\n",
            "<ipython-input-27-bb46a2f52880>:3: DeprecationWarning: This method will be removed in a future version of Python. Use 'locale.format_string()' instead.\n",
            "  sanepar['AG026 - População urbana atendida com abastecimento de água'] = sanepar['AG026 - População urbana atendida com abastecimento de água'].apply(lambda x: locale.format('%d', x, 1))\n",
            "<ipython-input-27-bb46a2f52880>:4: DeprecationWarning: This method will be removed in a future version of Python. Use 'locale.format_string()' instead.\n",
            "  sanepar['AG002 - Quantidade de ligações ativas de água'] = sanepar['AG002 - Quantidade de ligações ativas de água'].apply(lambda x: locale.format('%d', x, 1))\n"
          ]
        }
      ],
      "source": [
        "sanepar['POP_TOT - População total do município do ano de referência (Fonte: IBGE):'] = sanepar[ 'POP_TOT - População total do município do ano de referência (Fonte: IBGE):'].apply(lambda x: locale.format('%d', x, 1))\n",
        "sanepar['AG001 - População total atendida com abastecimento de água'] = sanepar['AG001 - População total atendida com abastecimento de água'].apply(lambda x: locale.format('%d', x, 1))\n",
        "sanepar['AG026 - População urbana atendida com abastecimento de água'] = sanepar['AG026 - População urbana atendida com abastecimento de água'].apply(lambda x: locale.format('%d', x, 1))\n",
        "sanepar['AG002 - Quantidade de ligações ativas de água'] = sanepar['AG002 - Quantidade de ligações ativas de água'].apply(lambda x: locale.format('%d', x, 1))\n",
        "sanepar['GE017 - Ano de vencimento da delegação de abastecimento de água'] = sanepar['GE017 - Ano de vencimento da delegação de abastecimento de água'].astype(int)"
      ]
    },
    {
      "cell_type": "code",
      "execution_count": null,
      "metadata": {
        "id": "BKUDMEsIK-8K"
      },
      "outputs": [],
      "source": [
        "sanepar_agua = sanepar.loc[sanepar['Tipo de serviço'] == ('Água')]"
      ]
    },
    {
      "cell_type": "code",
      "execution_count": null,
      "metadata": {
        "id": "ViMsJwytK-8L"
      },
      "outputs": [],
      "source": [
        "dict_agua = sanepar_agua.to_dict(orient='records')"
      ]
    },
    {
      "cell_type": "code",
      "execution_count": null,
      "metadata": {
        "id": "tEyrVWHWK-8M"
      },
      "outputs": [],
      "source": [
        "sanepar_agua_esgoto = sanepar.loc[sanepar['Tipo de serviço'] == ('Água e Esgoto')]"
      ]
    },
    {
      "cell_type": "code",
      "execution_count": null,
      "metadata": {
        "id": "6B5Hf8sUK-8M"
      },
      "outputs": [],
      "source": [
        "dict_agua_esgoto = sanepar_agua_esgoto.to_dict(orient='records')"
      ]
    },
    {
      "cell_type": "code",
      "execution_count": null,
      "metadata": {
        "id": "VvyHeTxJI9ib"
      },
      "outputs": [],
      "source": [
        "import subprocess\n",
        "\n",
        "try:\n",
        "    from comtypes import client\n",
        "except ImportError:\n",
        "    client = None\n",
        "\n",
        "def doc2pdf(doc):\n",
        "    \"\"\"\n",
        "    convert a doc/docx document to pdf format\n",
        "    :param doc: path to document\n",
        "    \"\"\"\n",
        "    doc = os.path.abspath(doc) # bugfix - searching files in windows/system32\n",
        "    if client is None:\n",
        "        return doc2pdf_linux(doc)\n",
        "    name, ext = os.path.splitext(doc)\n",
        "    try:\n",
        "        word = client.CreateObject('Word.Application')\n",
        "        worddoc = word.Documents.Open(doc)\n",
        "        worddoc.SaveAs(name + '.pdf', FileFormat=17)\n",
        "    except Exception:\n",
        "        raise\n",
        "    finally:\n",
        "        worddoc.Close()\n",
        "        word.Quit()\n",
        "\n",
        "      \n",
        "def doc2pdf_linux(doc):\n",
        "    \"\"\"\n",
        "    convert a doc/docx document to pdf format (linux only, requires libreoffice)\n",
        "    :param doc: path to document\n",
        "    \"\"\"\n",
        "    cmd = 'libreoffice --convert-to pdf'.split() + [doc]\n",
        "    p = subprocess.Popen(cmd, stderr=subprocess.PIPE, stdout=subprocess.PIPE)\n",
        "    p.wait(timeout=10)\n",
        "    stdout, stderr = p.communicate()\n",
        "    if stderr:\n",
        "        raise subprocess.SubprocessError(stderr)"
      ]
    },
    {
      "cell_type": "code",
      "execution_count": null,
      "metadata": {
        "colab": {
          "base_uri": "https://localhost:8080/",
          "height": 133
        },
        "id": "uaBXgkTnK-8O",
        "outputId": "afe765a9-3451-4a83-c79c-4eca7f2945c5"
      },
      "outputs": [
        {
          "ename": "SyntaxError",
          "evalue": "ignored",
          "output_type": "error",
          "traceback": [
            "\u001b[0;36m  File \u001b[0;32m\"<ipython-input-65-f456e2c915a4>\"\u001b[0;36m, line \u001b[0;32m69\u001b[0m\n\u001b[0;31m    abiword --to=pdf f'/content/drive/MyDrive/automacao-localize/words/{cidade}.docx'\u001b[0m\n\u001b[0m                     ^\u001b[0m\n\u001b[0;31mSyntaxError\u001b[0m\u001b[0;31m:\u001b[0m invalid syntax\n"
          ]
        }
      ],
      "source": [
        "for dicio in dict_agua_esgoto:\n",
        "    cidade = dicio['Município']\n",
        "    regex1 = re.compile(\"<Município>\")\n",
        "    replace1 = f\"{dicio['Município']}\"\n",
        "    regex2 = re.compile(\"<ano de vencimento>\")\n",
        "    replace2 = f\"{dicio['GE017 - Ano de vencimento da delegação de abastecimento de água']}\"\n",
        "    regex3 = re.compile(\"<pop total do munícipio>\")\n",
        "    replace3 = f\"{dicio['POP_TOT - População total do município do ano de referência (Fonte: IBGE):']}\"\n",
        "    regex4 = re.compile(\"<pop urbana>\")\n",
        "    replace4 = f\"{dicio['AG026 - População urbana atendida com abastecimento de água']}\"\n",
        "    regex5 = re.compile(\"<ligações ativas>\")\n",
        "    replace5 = f\"{dicio['AG002 - Quantidade de ligações ativas de água']}\"\n",
        "    regex6 = re.compile(\"<produzido>\")\n",
        "    replace6 = f\"{dicio['AG006 - Volume de água produzido']}\"\n",
        "    regex7 = re.compile(\"<faturado>\")\n",
        "    replace7 = f\"{dicio['AG011 - Volume de água faturado']}\"\n",
        "    regex8 = re.compile(\"<consumido>\")\n",
        "    replace8 = f\"{dicio['AG010 - Volume de água consumido']}\"\n",
        "    regex9 = re.compile(\"<paralisações>\")\n",
        "    replace9 = f\"{dicio['QD002 - Quantidades de paralisações no sistema de distribuição de água']}\"\n",
        "    regex10 = re.compile(\"<turbidez>\")\n",
        "    replace10 = f\"{dicio['IN076 - Incidência das análises de turbidez fora do padrão']}\"\n",
        "    regex11 = re.compile(\"<coliformes>\")\n",
        "    replace11 = f\"{dicio['QD027 - Quantidade de amostras para coliformes totais com resultados fora do padrão']}\"\n",
        "    regex12 = re.compile(\"<cloro>\")\n",
        "    replace12 = f\"{dicio['IN079 - Índice de conformidade da quantidade de amostras - cloro residual']}\"\n",
        "    regex13 = re.compile(\"<pop total agua>\")\n",
        "    replace13 = f\"{dicio['AG001 - População total atendida com abastecimento de água']}\" \n",
        "    regex14 = re.compile(\"<pop total esgoto>\")\n",
        "    replace14 = f\"{dicio['ES001 - População total atendida com esgotamento sanitário']}\"\n",
        "    regex15 = re.compile(\"<lig ativo esgoto>\")\n",
        "    replace15 = f\"{dicio['ES002 - Quantidade de ligações ativas de esgotos']}\"\n",
        "    regex16 = re.compile(\"<coletado esgoto>\")\n",
        "    replace16 = f\"{dicio['ES005 - Volume de esgotos coletado']}\"\n",
        "    regex17 = re.compile(\"<faturado esgoto>\")\n",
        "    replace17 = f\"{dicio['ES007 - Volume de esgotos faturado']}\"\n",
        "    regex18 = re.compile(\"<tratado esgoto>\")\n",
        "    replace18 = f\"{dicio['ES006 - Volume de esgotos tratado']}\"\n",
        "    regex19 = re.compile(\"<rede esgoto>\")\n",
        "    replace19 = f\"{dicio['ES004 - Extensão da rede de esgotos']}\"\n",
        "\n",
        "\n",
        "\n",
        "    filename = \"/content/drive/MyDrive/automacao-localize/agua e esgoto.docx\"\n",
        "    doc = Document(filename)\n",
        "\n",
        "    docx_replace_regex(doc, regex1 , replace1)\n",
        "    docx_replace_regex(doc, regex2 , replace2)\n",
        "    docx_replace_regex(doc, regex3 , replace3)\n",
        "    docx_replace_regex(doc, regex4 , replace4)\n",
        "    docx_replace_regex(doc, regex5 , replace5)\n",
        "    docx_replace_regex(doc, regex6 , replace6)\n",
        "    docx_replace_regex(doc, regex7 , replace7)\n",
        "    docx_replace_regex(doc, regex8 , replace8)\n",
        "    docx_replace_regex(doc, regex9 , replace9)\n",
        "    docx_replace_regex(doc, regex10 , replace10)\n",
        "    docx_replace_regex(doc, regex11 , replace11)\n",
        "    docx_replace_regex(doc, regex12 , replace12)\n",
        "    docx_replace_regex(doc, regex13 , replace13)\n",
        "    docx_replace_regex(doc, regex14 , replace14)\n",
        "    docx_replace_regex(doc, regex15 , replace15)\n",
        "    docx_replace_regex(doc, regex16 , replace16)\n",
        "    docx_replace_regex(doc, regex17 , replace17)\n",
        "    docx_replace_regex(doc, regex18 , replace18)\n",
        "    docx_replace_regex(doc, regex19 , replace19)\n",
        "    \n",
        "\n",
        "\n",
        "    abiword --to=pdf f'/content/drive/MyDrive/automacao-localize/words/{cidade}.docx'"
      ]
    },
    {
      "cell_type": "code",
      "execution_count": null,
      "metadata": {
        "id": "eEfd9S3KSDT2"
      },
      "outputs": [],
      "source": [
        "def convert(input_path, output_path=None, keep_active=False):\n",
        "    paths = resolve_paths(input_path, output_path)\n",
        "    if sys.platform == \"darwin\":\n",
        "        return macos(paths, keep_active)\n",
        "    elif sys.platform == \"win32\":\n",
        "        return windows(paths, keep_active)\n",
        "    else:\n",
        "#        raise NotImplementedError(\n",
        "#            \"docx2pdf is not implemented for linux as it requires Microsoft Word to be installed\"\n",
        "#        )\n",
        "        return windows(paths, keep_active)"
      ]
    },
    {
      "cell_type": "code",
      "execution_count": null,
      "metadata": {
        "colab": {
          "background_save": true
        },
        "id": "sqIJD1xBT-IV"
      },
      "outputs": [],
      "source": [
        "import subprocess\n",
        "\n",
        "try:\n",
        "    from comtypes import client\n",
        "except ImportError:\n",
        "    client = None\n",
        "\n",
        "def doc2pdf(doc):\n",
        "    \"\"\"\n",
        "    convert a doc/docx document to pdf format\n",
        "    :param doc: path to document\n",
        "    \"\"\"\n",
        "    doc = os.path.abspath(doc) # bugfix - searching files in windows/system32\n",
        "    try:\n",
        "        word = client.CreateObject('Word.Application')\n",
        "        worddoc = word.Documents.Open(doc)\n",
        "        worddoc.SaveAs(name + '.pdf', FileFormat=17)\n",
        "    except Exception:\n",
        "        raise\n",
        "    finally:\n",
        "        worddoc.Close()\n",
        "        word.Quit()"
      ]
    }
  ],
  "metadata": {
    "colab": {
      "provenance": [],
      "include_colab_link": true
    },
    "kernelspec": {
      "display_name": "base",
      "language": "python",
      "name": "python3"
    },
    "language_info": {
      "codemirror_mode": {
        "name": "ipython",
        "version": 3
      },
      "file_extension": ".py",
      "mimetype": "text/x-python",
      "name": "python",
      "nbconvert_exporter": "python",
      "pygments_lexer": "ipython3",
      "version": "3.9.7"
    },
    "vscode": {
      "interpreter": {
        "hash": "08a400adeb6830322ec40344573c657b15a9eb2eef6e1c7ab2815bda50c98d3e"
      }
    }
  },
  "nbformat": 4,
  "nbformat_minor": 0
}